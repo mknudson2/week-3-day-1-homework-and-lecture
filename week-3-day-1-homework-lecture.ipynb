{
 "cells": [
  {
   "cell_type": "markdown",
   "metadata": {},
   "source": [
    "# Object-Oriented-Programming (OOP)"
   ]
  },
  {
   "cell_type": "markdown",
   "metadata": {},
   "source": [
    "## Tasks Today:\n",
    "\n",
    "   \n",
    "\n",
    "1) <b>Creating a Class (Initializing/Declaring)</b> <br>\n",
    "2) <b>Using a Class (Instantiating)</b> <br>\n",
    " &nbsp;&nbsp;&nbsp;&nbsp; a) Creating One Instance <br>\n",
    " &nbsp;&nbsp;&nbsp;&nbsp; b) Creating Multiple Instances <br>\n",
    " &nbsp;&nbsp;&nbsp;&nbsp; c) In-Class Exercise #1 - Create a Class 'Car' and instantiate three different makes of cars <br>\n",
    "3) <b>The \\__init\\__() Method</b> <br>\n",
    " &nbsp;&nbsp;&nbsp;&nbsp; a) The 'self' Attribute <br>\n",
    "4) <b>Class Attributes</b> <br>\n",
    " &nbsp;&nbsp;&nbsp;&nbsp; a) Initializing Attributes <br>\n",
    " &nbsp;&nbsp;&nbsp;&nbsp; b) Setting an Attribute Outside of the \\__init\\__() Method <br>\n",
    " &nbsp;&nbsp;&nbsp;&nbsp; c) Setting Defaults for Attributes <br>\n",
    " &nbsp;&nbsp;&nbsp;&nbsp; d) Accessing Class Attributes <br>\n",
    " &nbsp;&nbsp;&nbsp;&nbsp; e) Changing Class Attributes <br>\n",
    " &nbsp;&nbsp;&nbsp;&nbsp; f) In-Class Exercise #2 - Add a color and wheels attribute to your 'Car' class <br>\n",
    "5) <b>Class Methods</b> <br>\n",
    " &nbsp;&nbsp;&nbsp;&nbsp; a) Creating <br>\n",
    " &nbsp;&nbsp;&nbsp;&nbsp; b) Calling <br>\n",
    " &nbsp;&nbsp;&nbsp;&nbsp; c) Modifying an Attribute's Value Through a Method <br>\n",
    " &nbsp;&nbsp;&nbsp;&nbsp; d) Incrementing an Attribute's Value Through a Method <br>\n",
    " &nbsp;&nbsp;&nbsp;&nbsp; e) In-Class Exercise #3 - Add a method that prints the cars color and wheel number, then call them <br>\n",
    "6) <b>Inheritance</b> <br>\n",
    " &nbsp;&nbsp;&nbsp;&nbsp; a) Syntax for Inheriting from a Parent Class <br>\n",
    " &nbsp;&nbsp;&nbsp;&nbsp; b) The \\__init\\__() Method for a Child Class (super()) <br>\n",
    " &nbsp;&nbsp;&nbsp;&nbsp; c) Defining Attributes and Methods for the Child Class <br>\n",
    " &nbsp;&nbsp;&nbsp;&nbsp; d) Method Overriding <br>\n",
    " &nbsp;&nbsp;&nbsp;&nbsp; e) In-Class Exercise #4 - Create a class 'Ford' that inherits from 'Car' class and initialize it as a Blue Ford Explorer with 4 wheels using the super() method <br>\n",
    "7) <b>Classes as Attributes</b> <br>\n",
    "8) <b>Exercises</b> <br>\n",
    " &nbsp;&nbsp;&nbsp;&nbsp; a) Exercise #1 - Turn the shopping cart program from yesterday into an object-oriented program <br>"
   ]
  },
  {
   "cell_type": "markdown",
   "metadata": {},
   "source": [
    "## Creating a Class (Initializing/Declaring)\n",
    "<p>When creating a class, function, or even a variable you are initializing that object. Initializing and Declaring occur at the same time in Python, whereas in lower level languages you have to declare an object before initializing it. This is the first step in the process of using a class.</p>"
   ]
  },
  {
   "cell_type": "code",
   "execution_count": 1,
   "metadata": {},
   "outputs": [],
   "source": [
    "class Car(): #classes are capitalized. It won't break it, but it is best practice (pascal case: Car; CarInfo, etc.)\n",
    "    wheels = 4 #class attribute\n",
    "    color = 'blue' #class attribute"
   ]
  },
  {
   "cell_type": "code",
   "execution_count": 2,
   "metadata": {},
   "outputs": [],
   "source": [
    "class Agent:\n",
    "    name = 'Smith'\n",
    "    glasses_color = 'black'\n",
    "    "
   ]
  },
  {
   "cell_type": "code",
   "execution_count": null,
   "metadata": {},
   "outputs": [],
   "source": []
  },
  {
   "cell_type": "markdown",
   "metadata": {},
   "source": [
    "## Using a Class (Instantiating)\n",
    "<p>The process of creating a class is called <i>Instantiating</i>. Each time you create a variable of that type of class, it is referred to as an <i>Instance</i> of that class. This is the second step in the process of using a class.</p>"
   ]
  },
  {
   "cell_type": "markdown",
   "metadata": {},
   "source": [
    "##### Creating One Instance"
   ]
  },
  {
   "cell_type": "code",
   "execution_count": 3,
   "metadata": {},
   "outputs": [],
   "source": [
    "ford = Car()\n",
    "\n",
    "ford.wheels #accessing the attribute noted via dot notation\n",
    "ford.color\n",
    "\n",
    "ford.color = 'pink' #updates the value for that instance"
   ]
  },
  {
   "cell_type": "code",
   "execution_count": 4,
   "metadata": {},
   "outputs": [
    {
     "data": {
      "text/plain": [
       "'Smith'"
      ]
     },
     "execution_count": 4,
     "metadata": {},
     "output_type": "execute_result"
    }
   ],
   "source": [
    "agent = Agent()\n",
    "\n",
    "agent.name\n",
    "\n",
    "#error\n",
    "#attribute must exist\n",
    "# agent.age"
   ]
  },
  {
   "cell_type": "markdown",
   "metadata": {},
   "source": [
    "##### Creating Multiple Instances"
   ]
  },
  {
   "cell_type": "code",
   "execution_count": 5,
   "metadata": {},
   "outputs": [
    {
     "name": "stdout",
     "output_type": "stream",
     "text": [
      "black\n",
      "black\n",
      "black\n"
     ]
    }
   ],
   "source": [
    "agent1 = Agent()\n",
    "agent2 = Agent()\n",
    "agent_sean = Agent()\n",
    "\n",
    "print(agent2.glasses_color)\n",
    "print(agent1.glasses_color)\n",
    "print(agent_sean.glasses_color)"
   ]
  },
  {
   "cell_type": "markdown",
   "metadata": {},
   "source": [
    "##### In-Class Exercise #1 - Create a Class 'Car' and Instantiate three different makes of cars"
   ]
  },
  {
   "cell_type": "code",
   "execution_count": 6,
   "metadata": {},
   "outputs": [
    {
     "name": "stdout",
     "output_type": "stream",
     "text": [
      "yes\n",
      "yes\n",
      "yes\n"
     ]
    }
   ],
   "source": [
    "class OurCars:\n",
    "    wheels = 4 #attribute of OurCars class\n",
    "    color = 'red'#attribute of OurCars class\n",
    "    all_wheel_drive = 'yes'#attribute of OurCars class\n",
    "    sunroof = 'yes'#attribute of OurCars class\n",
    "    \n",
    "\n",
    "kia = OurCars() #instances of OurCars class (remember, the () are necessary when instantiating)\n",
    "hyundai = OurCars() #instances of OurCars class (remember, the () are necessary when instantiating)\n",
    "honda = OurCars() #instances of OurCars class (remember, the () are necessary when instantiating)\n",
    "\n",
    "\n",
    "print(kia.all_wheel_drive)\n",
    "print(hyundai.all_wheel_drive)\n",
    "print(honda.all_wheel_drive)\n",
    "    "
   ]
  },
  {
   "cell_type": "markdown",
   "metadata": {},
   "source": [
    "## The \\__init\\__() Method <br>\n",
    "<p>This method is used in almost every created class, and called only once upon the creation of the class instance. This method will initialize all variables needed for the object.</p>"
   ]
  },
  {
   "cell_type": "code",
   "execution_count": 7,
   "metadata": {},
   "outputs": [
    {
     "name": "stdout",
     "output_type": "stream",
     "text": [
      "Smith\n",
      "Smith\n",
      "david\n",
      "tajay\n"
     ]
    }
   ],
   "source": [
    "#all our instances are going to have these attributes, but the values of these instances are different\n",
    "#a dunder method (double underscore)+\n",
    "\n",
    "class Agent:\n",
    "    name = 'Smith'\n",
    "    \n",
    "    def __init__(self, person_overwritten, weapon): #self is the representeation of the instance as it runs through our blueprint\n",
    "        self.person_overwritten = person_overwritten\n",
    "        self.weapon = weapon\n",
    "\n",
    "\n",
    "agent = Agent('david', 'dessert eagle')\n",
    "\n",
    "agent1 = Agent('tajay', 'dessert eagle')\n",
    "\n",
    "print(agent.name)\n",
    "print(agent1.name)\n",
    "\n",
    "print(agent.person_overwritten)\n",
    "print(agent1.person_overwritten)"
   ]
  },
  {
   "cell_type": "code",
   "execution_count": 8,
   "metadata": {},
   "outputs": [
    {
     "name": "stdout",
     "output_type": "stream",
     "text": [
      "4\n",
      "honda fit 2006\n",
      "chevy cruze 2010\n"
     ]
    }
   ],
   "source": [
    "class Car:\n",
    "    wheels = 4\n",
    "    \n",
    "    def __init__(self, make, model, year):\n",
    "        self.make = make\n",
    "        self.model = model\n",
    "        self.year = year\n",
    "        \n",
    "car = Car('honda', 'fit', 2006)\n",
    "car2 = Car('chevy', 'cruze', 2010)\n",
    "\n",
    "\n",
    "print(car.wheels)\n",
    "\n",
    "print(f'{car.make} {car.model} {car.year}')\n",
    "print(f'{car2.make} {car2.model} {car2.year}')\n",
    "        "
   ]
  },
  {
   "cell_type": "markdown",
   "metadata": {},
   "source": [
    "##### The 'self' Attribute <br>\n",
    "<p>This attribute is required to keep track of specific instance's attributes. Without the self attribute, the program would not know how to reference or keep track of an instance's attributes.</p>"
   ]
  },
  {
   "cell_type": "code",
   "execution_count": 9,
   "metadata": {},
   "outputs": [],
   "source": [
    "# see above"
   ]
  },
  {
   "cell_type": "markdown",
   "metadata": {},
   "source": [
    "## Class Attributes <br>\n",
    "<p>While variables are inside of a class, they are referred to as attributes and not variables. When someone says 'attribute' you know they're speaking about a class. Attributes can be initialized through the init method, or outside of it.</p>"
   ]
  },
  {
   "cell_type": "markdown",
   "metadata": {},
   "source": [
    "##### Initializing Attributes"
   ]
  },
  {
   "cell_type": "code",
   "execution_count": 10,
   "metadata": {},
   "outputs": [],
   "source": [
    "# see above"
   ]
  },
  {
   "cell_type": "markdown",
   "metadata": {},
   "source": [
    "##### Accessing Class Attributes"
   ]
  },
  {
   "cell_type": "code",
   "execution_count": 11,
   "metadata": {
    "scrolled": true
   },
   "outputs": [],
   "source": [
    "# See Above"
   ]
  },
  {
   "cell_type": "markdown",
   "metadata": {},
   "source": [
    "##### Setting Defaults for Attributes"
   ]
  },
  {
   "cell_type": "code",
   "execution_count": 12,
   "metadata": {},
   "outputs": [
    {
     "name": "stdout",
     "output_type": "stream",
     "text": [
      "desert eagle\n",
      "glock\n"
     ]
    }
   ],
   "source": [
    "class Agent:\n",
    "    name = 'Smith'\n",
    "    \n",
    "    def __init__(self, person_overwritten, weapon='desert eagle'):\n",
    "        self.person_overwritten = person_overwritten\n",
    "        self.weapon = weapon\n",
    "\n",
    "\n",
    "agent = Agent('david')\n",
    "\n",
    "agent1 = Agent('tajay', 'glock')\n",
    "\n",
    "print(agent.weapon)\n",
    "print(agent1.weapon)"
   ]
  },
  {
   "cell_type": "markdown",
   "metadata": {},
   "source": [
    "##### Changing Class Attributes <br>\n",
    "<p>Keep in mind there are global class attributes and then there are attributes only available to each class instance which won't effect other classes.</p>"
   ]
  },
  {
   "cell_type": "code",
   "execution_count": 13,
   "metadata": {},
   "outputs": [
    {
     "name": "stdout",
     "output_type": "stream",
     "text": [
      "Smith\n",
      "Johnson\n",
      "Smith\n"
     ]
    }
   ],
   "source": [
    "print(agent.name)\n",
    "\n",
    "agent.name = 'Johnson'\n",
    "\n",
    "print(agent.name) #the value of the name attribute has been updatd for the agent instance, but not agent1\n",
    "print(agent1.name)"
   ]
  },
  {
   "cell_type": "code",
   "execution_count": 14,
   "metadata": {},
   "outputs": [
    {
     "name": "stdout",
     "output_type": "stream",
     "text": [
      "Johnson\n"
     ]
    }
   ],
   "source": [
    "Agent.name = 'Johnson' #this overwrites the global attribute not just for that instance but all instances\n",
    "\n",
    "print(agent1.name)"
   ]
  },
  {
   "cell_type": "markdown",
   "metadata": {},
   "source": [
    "##### In-Class Exercise #2 - Add a doors and seats attribute to your 'Car' class then print out two different instances with different doors and seats"
   ]
  },
  {
   "cell_type": "code",
   "execution_count": 15,
   "metadata": {},
   "outputs": [
    {
     "name": "stdout",
     "output_type": "stream",
     "text": [
      " 4 2 red sedona 7 4\n",
      " 4 2 grey elantra 5 4\n",
      " 4 2 red sedona 7 4\n"
     ]
    }
   ],
   "source": [
    "class OurCars:\n",
    "    wheels = 4\n",
    "    plates = 2\n",
    "    \n",
    "    def __init__(self, color, model, seats, doors=4):\n",
    "        self.color = color\n",
    "        self.model = model\n",
    "        self.doors = doors\n",
    "        self.seats = seats\n",
    "    \n",
    "    def __repr__(self): #what will be output when we look at an instance of our class (i.e., no need to call all w/{})\n",
    "        return f' {self.wheels} {self.plates} {self.color} {self.model} {self.seats} {self.doors}'\n",
    "        \n",
    "kia = OurCars('red', 'sedona', 7)\n",
    "hyundai = OurCars('grey', 'elantra', 5)\n",
    "\n",
    "print(f' {kia.wheels} {kia.plates} {kia.color} {kia.model} {kia.seats} {kia.doors}')\n",
    "print(f' {hyundai.wheels} {hyundai.plates} {hyundai.color} {hyundai.model} {hyundai.seats} {hyundai.doors}')\n",
    "\n",
    "print(kia)"
   ]
  },
  {
   "cell_type": "markdown",
   "metadata": {},
   "source": [
    "## Class Methods <br>\n",
    "<p>While inside of a class, functions are referred to as 'methods'. If you hear someone mention methods, they're speaking about classes. Methods are essentially functions, but only callable on the instances of a class.</p>"
   ]
  },
  {
   "cell_type": "markdown",
   "metadata": {},
   "source": [
    "##### Creating"
   ]
  },
  {
   "cell_type": "code",
   "execution_count": 16,
   "metadata": {},
   "outputs": [
    {
     "data": {
      "text/plain": [
       "'HELLO WORLD'"
      ]
     },
     "execution_count": 16,
     "metadata": {},
     "output_type": "execute_result"
    }
   ],
   "source": [
    "#string method\n",
    "'hello world'.upper()"
   ]
  },
  {
   "cell_type": "code",
   "execution_count": 40,
   "metadata": {},
   "outputs": [
    {
     "name": "stdout",
     "output_type": "stream",
     "text": [
      "[red] pill: down the rabbit hole, [blue] pill: believe what you will  red\n",
      "You are learning ['kung fu', 'taekwando', 'aikido', 'drunken monk'].\n",
      "Do you need additional training? yes\n",
      "What style? BJJ\n",
      "You now know kung fu, taekwando, aikido, drunken monk, BJJ.\n",
      "Are you ready to enter the Matrix? yes\n",
      "Plugging in, Enter Matrix\n",
      "self.location= 1\n",
      "Time to exit, phone ringing\n",
      "[red] pill: down the rabbit hole, [blue] pill: believe what you will  blue\n"
     ]
    }
   ],
   "source": [
    "class HumanOfMatrixUniverse:\n",
    "    \n",
    "    \"\"\"\n",
    "    take a pill (make a decision) \n",
    "    get training\n",
    "    enter matrix\n",
    "    Attributes: name, fighting_styles, awake #plural fighting_styles indicates a list datatype would be helpful\n",
    "    \"\"\"\n",
    "    \n",
    "    def __init__(self, name, fighting_styles=[], awake=False):\n",
    "        self.name = name\n",
    "        self.fighting_styles = fighting_styles\n",
    "        self.awake = awake\n",
    "    \n",
    "    \n",
    "    def driver(self):\n",
    "        '''\n",
    "        make decision\n",
    "        get training for matrix\n",
    "        look for additional styles\n",
    "        option to enter matrix\n",
    "        option to exit matrix\n",
    "        do while\n",
    "        '''\n",
    "        while True:\n",
    "            self.pill_decision()\n",
    "            if self.awake: #since it is already refereing to a boolean statement that is true or false\n",
    "                self.train_fighting_styles()\n",
    "                more_training = input('Do you need additional training? ').lower()\n",
    "                if more_training == 'yes':\n",
    "                    self.train_specific_style(input('What style? '))\n",
    "                print(f'You now know {\", \".join(style for style in self.fighting_styles)}.')\n",
    "                self.enter_matrix()\n",
    "                self.exit_matrix()\n",
    "            else:\n",
    "                break\n",
    "            \n",
    "        \n",
    "    \n",
    "    def pill_decision(self):\n",
    "        while True:\n",
    "            pill = input('[red] pill: down the rabbit hole, [blue] pill: believe what you will  ').lower()\n",
    "            if pill == 'red':\n",
    "                self.awake = True\n",
    "            elif pill =='blue':\n",
    "                self.awake = False\n",
    "            else:\n",
    "                print('Please enter valid response: red/blue')\n",
    "                continue\n",
    "            break\n",
    "#         print(self.awake)\n",
    "    \n",
    "    def train_fighting_styles(self):\n",
    "        self.fighting_styles += ['kung fu', 'taekwando', 'aikido', 'drunken monk']\n",
    "        print(f'You are learning {self.fighting_styles}.')\n",
    "        \n",
    "        \n",
    "    def train_specific_style(self, style):\n",
    "        self.fighting_styles.append(style) #since we are only adding in one style/item at a time\n",
    "    \n",
    "    def enter_matrix(self):\n",
    "        while True:\n",
    "            answer = input('Are you ready to enter the Matrix? ').lower()\n",
    "            if answer == 'yes':\n",
    "                self.location = 1\n",
    "                print('Plugging in, Enter Matrix')\n",
    "            elif answer == 'no':\n",
    "                print('Staying put')\n",
    "#                 setattr(<class_instance>, <attribute to be updated>, <value>)\n",
    "                setattr(self, 'location', 0) #same as doing self.location = 0\n",
    "            else:\n",
    "                print('Please enter a valid response. ')\n",
    "                continue\n",
    "            break\n",
    "        print(f'{self.location= }')\n",
    "    \n",
    "    def exit_matrix(self):\n",
    "        print('Time to exit, phone ringing')\n",
    "        setattr(self, 'location', 0)\n",
    "    \n",
    "human = HumanOfMatrixUniverse('Neo')\n",
    "\n",
    "# human.pill_decision() #calling a specific method within the associated class\n",
    "\n",
    "# human.train_fighting_styles()\n",
    "# human.train_specific_style('bjj')\n",
    "\n",
    "# human.enter_matrix()\n",
    "# human.exit_matrix()\n",
    "human.driver()"
   ]
  },
  {
   "cell_type": "markdown",
   "metadata": {},
   "source": [
    "##### Calling"
   ]
  },
  {
   "cell_type": "code",
   "execution_count": null,
   "metadata": {},
   "outputs": [],
   "source": [
    "# See Above"
   ]
  },
  {
   "cell_type": "markdown",
   "metadata": {},
   "source": [
    "##### Modifying an Attribute's Value Through a Method"
   ]
  },
  {
   "cell_type": "code",
   "execution_count": null,
   "metadata": {},
   "outputs": [],
   "source": []
  },
  {
   "cell_type": "markdown",
   "metadata": {},
   "source": [
    "##### Incrementing an Attribute's Value Through a Method"
   ]
  },
  {
   "cell_type": "code",
   "execution_count": null,
   "metadata": {},
   "outputs": [],
   "source": [
    "current_year = 2023\n",
    "\n",
    "class Human:\n",
    "    def __init__(self, name, year_born):\n",
    "        self.name = name\n",
    "        self.year_born = year_born\n",
    "        self.age = current_year - year_born\n",
    "    \n",
    "    def birthday(self):\n",
    "        self.age += 1\n",
    "        print(f'Happy Birthday! You are {self.age} years old!')\n",
    "\n",
    "human = Human('sean', 1999)\n",
    "\n",
    "human.birthday()\n",
    "human.birthday()\n",
    "human.birthday()\n",
    "human.birthday()"
   ]
  },
  {
   "cell_type": "markdown",
   "metadata": {},
   "source": [
    "##### In-Class Exercise #3 - Add a method that takes in three parameters of year, doors and seats and prints out a formatted print statement with make, model, year, seats, and doors"
   ]
  },
  {
   "cell_type": "code",
   "execution_count": null,
   "metadata": {},
   "outputs": [],
   "source": [
    "# Create class with 2 paramters inside of the __init__ which are make and model\n",
    "\n",
    "# Inside of the Car class create a method that has 4 parameter in total (self,year,door,seats)\n",
    "\n",
    "# Output: This car is from 2019 and is a Ford Expolorer and has 4 doors and 5 seats\n",
    "\n",
    "class Cars:\n",
    "    \n",
    "    def __init__(self, make, model):\n",
    "        self.make = make\n",
    "        self.model = model\n",
    "        \n",
    "    def car_info(self, year, door, seats):\n",
    "        self.year = year\n",
    "        self.door = door\n",
    "        self.seats = seats\n",
    "        print(f'This car is a {self.year} {self.make} {self.model} and has {self.doors} and {self.seats}. Nice!')\n",
    "\n",
    "ours = Cars('kia', 'sedona')\n",
    "ours.car_info(2017, 4, 7)"
   ]
  },
  {
   "cell_type": "markdown",
   "metadata": {},
   "source": [
    "## Inheritance <br>\n",
    "<p>You can create a child-parent relationship between two classes by using inheritance. What this allows you to do is have overriding methods, but also inherit traits from the parent class. Think of it as an actual parent and child, the child will inherit the parent's genes, as will the classes in OOP</p>"
   ]
  },
  {
   "cell_type": "markdown",
   "metadata": {},
   "source": [
    "##### Syntax for Inheriting from a Parent Class"
   ]
  },
  {
   "cell_type": "code",
   "execution_count": 28,
   "metadata": {},
   "outputs": [
    {
     "name": "stdout",
     "output_type": "stream",
     "text": [
      "I am a Ranger.\n",
      "Name: Aragorn, class: Ranger, stats: {'str': 10, 'dex': 10, 'charisma': 10}\n"
     ]
    }
   ],
   "source": [
    "class FantasyCharacter:\n",
    "    speed = 10\n",
    "    \n",
    "    def __init__(self,name,class_, stats):\n",
    "        self.name = name\n",
    "        self.class_ = class_\n",
    "        self.stats = stats\n",
    "        \n",
    "    def display_character(self):\n",
    "        print(f'Name: {self.name}, class: {self.class_}, stats: {self.stats}')\n",
    "    \n",
    "stats = {\n",
    "    'str':10,\n",
    "    'dex':10,\n",
    "    'charisma' : 10\n",
    "}\n",
    "        \n",
    "\n",
    "class Human(FantasyCharacter):\n",
    "    size = 'medium'\n",
    "    \n",
    "    def display_character_class(self):\n",
    "        print(f'I am a {self.class_}.')\n",
    "        \n",
    "human = Human('Aragorn','Ranger', stats)\n",
    "\n",
    "human.size\n",
    "human.speed\n",
    "\n",
    "human.display_character_class()\n",
    "\n",
    "human.display_character()"
   ]
  },
  {
   "cell_type": "markdown",
   "metadata": {},
   "source": [
    "##### The \\__init\\__() Method for a Child Class - super()"
   ]
  },
  {
   "cell_type": "code",
   "execution_count": 29,
   "metadata": {
    "scrolled": true
   },
   "outputs": [
    {
     "name": "stdout",
     "output_type": "stream",
     "text": [
      "Name: Bilbo, class: burgler, stats: {'str': 10, 'dex': 10, 'charisma': 10}\n"
     ]
    }
   ],
   "source": [
    "class Hobbit(FantasyCharacter):\n",
    "    size = \"small\"\n",
    "    speed = 12\n",
    "    \n",
    "    def __init__(self, name, class_, stats, height):\n",
    "        super().__init__(name, class_, stats)\n",
    "        self.height = height\n",
    "        \n",
    "    def display_my_class(self):\n",
    "        print(f'I am a {self.class_}.')\n",
    "        \n",
    "bilbo = Hobbit('Bilbo', 'burgler', stats, '3ft')\n",
    "\n",
    "\n",
    "bilbo.size\n",
    "bilbo.speed #this has overwritten our parent value of 10\n",
    "bilbo.height\n",
    "bilbo.display_character()"
   ]
  },
  {
   "cell_type": "markdown",
   "metadata": {},
   "source": [
    "##### Defining Attributes and Methods for the Child Class"
   ]
  },
  {
   "cell_type": "code",
   "execution_count": null,
   "metadata": {},
   "outputs": [],
   "source": [
    "# See Above"
   ]
  },
  {
   "cell_type": "markdown",
   "metadata": {},
   "source": [
    "##### Method Overriding"
   ]
  },
  {
   "cell_type": "code",
   "execution_count": 32,
   "metadata": {},
   "outputs": [
    {
     "name": "stdout",
     "output_type": "stream",
     "text": [
      "Stout Hobbit, override\n"
     ]
    }
   ],
   "source": [
    "class StoutHobbit(Hobbit):\n",
    "    \n",
    "    def __init__(self, name, class_, stats, height, weight):\n",
    "        super().__init__(name, class_, stats, height)\n",
    "        self.weight = weight\n",
    "        \n",
    "    def display_my_class(self):\n",
    "        print(\"Stout Hobbit, override\")\n",
    "\n",
    "sam = StoutHobbit('sam', 'gardner', stats, '3ft', '120lbs')\n",
    "\n",
    "sam.speed\n",
    "\n",
    "sam.display_my_class() #overrode the display_my_class method from the parent class (Hobbit)"
   ]
  },
  {
   "cell_type": "markdown",
   "metadata": {},
   "source": [
    "\n",
    "## Classes as Attributes <br>\n",
    "<p>Classes can also be used as attributes within another class. This is useful in situations where you need to keep variables locally stored, instead of globally stored.</p>"
   ]
  },
  {
   "cell_type": "code",
   "execution_count": 36,
   "metadata": {},
   "outputs": [
    {
     "name": "stdout",
     "output_type": "stream",
     "text": [
      "12\n"
     ]
    },
    {
     "data": {
      "text/plain": [
       "1"
      ]
     },
     "execution_count": 36,
     "metadata": {},
     "output_type": "execute_result"
    }
   ],
   "source": [
    "class Stats:\n",
    "    \n",
    "    def __init__(self, strength=10, dexterity=10, constitution=10, wisdom=10, intelligence=10, charisma=10):\n",
    "        self.strength = strength\n",
    "        self.dexterity = dexterity\n",
    "        self.constitution = constitution\n",
    "        self.wisdom = wisdom\n",
    "        self.intelligence = intelligence\n",
    "        self.charisma = charisma\n",
    "        \n",
    "    def determine_buff(self, stat):\n",
    "        if getattr(self, stat) > 10: #object you want to get a value of an attribute, the attribute you want the value for\n",
    "            return 1\n",
    "        elif getattr(self,stat) < 10:\n",
    "            return -1\n",
    "        \n",
    "frodo = StoutHobbit('Frodo','Ring-Bearer', Stats(12), '3ft', '150lbs')\n",
    "print(frodo.stats.strength)\n",
    "frodo.stats.determine_buff('strength')"
   ]
  },
  {
   "cell_type": "code",
   "execution_count": 39,
   "metadata": {},
   "outputs": [
    {
     "name": "stdout",
     "output_type": "stream",
     "text": [
      "<__main__.Stats object at 0x7fde00a36d40>\n",
      "<__main__.Stats object at 0x7fde00a36d40>\n"
     ]
    },
    {
     "data": {
      "text/plain": [
       "1"
      ]
     },
     "execution_count": 39,
     "metadata": {},
     "output_type": "execute_result"
    }
   ],
   "source": [
    "aragorn_stats = Stats(17, 20, 20, 19, 19, 20)\n",
    "\n",
    "\n",
    "human = Human('Aragorn', 'Ranger', aragorn_stats)\n",
    "\n",
    "print(human.stats)\n",
    "print(aragorn_stats)\n",
    "\n",
    "human.stats.determine_buff('dexterity')"
   ]
  },
  {
   "cell_type": "markdown",
   "metadata": {},
   "source": [
    "# Exercises"
   ]
  },
  {
   "cell_type": "markdown",
   "metadata": {},
   "source": [
    "### Exercise 1 - Turn the shopping cart program from yesterday into an object-oriented program\n",
    "\n",
    "The comments in the cell below are there as a guide for thinking about the problem. However, if you feel a different way is best for you and your own thought process, please do what feels best for you by all means."
   ]
  },
  {
   "cell_type": "code",
   "execution_count": 47,
   "metadata": {},
   "outputs": [
    {
     "name": "stdout",
     "output_type": "stream",
     "text": [
      "\n",
      "Would you like to [a]dd an item, [r]emove an item, [s]ee your cart, or [e]xit?  \n",
      "a\n",
      "\n",
      "What would you like to add? \n",
      "Item name: milk\n",
      "\n",
      "How many would you like to add?  2\n",
      "{'milk': {'quantity': 2}}\n",
      "\n",
      "Would you like to [a]dd an item, [r]emove an item, [s]ee your cart, or [e]xit?  \n",
      "a\n",
      "\n",
      "What would you like to add? \n",
      "Item name: bread\n",
      "\n",
      "How many would you like to add?  4\n",
      "{'milk': {'quantity': 2}, 'bread': {'quantity': 4}}\n",
      "\n",
      "Would you like to [a]dd an item, [r]emove an item, [s]ee your cart, or [e]xit?  \n",
      "eggs\n",
      "Please enter a valid option: [a]dd, [r]emove, [s]ee, or [e]xit.\n",
      "\n",
      "\n",
      "Would you like to [a]dd an item, [r]emove an item, [s]ee your cart, or [e]xit?  \n",
      "12\n",
      "Please enter a valid option: [a]dd, [r]emove, [s]ee, or [e]xit.\n",
      "\n",
      "\n",
      "Would you like to [a]dd an item, [r]emove an item, [s]ee your cart, or [e]xit?  \n",
      "a\n",
      "\n",
      "What would you like to add? \n",
      "Item name: butter\n",
      "\n",
      "How many would you like to add?  1\n",
      "{'milk': {'quantity': 2}, 'bread': {'quantity': 4}, 'butter': {'quantity': 1}}\n",
      "\n",
      "Would you like to [a]dd an item, [r]emove an item, [s]ee your cart, or [e]xit?  \n",
      "r\n",
      "Which item would you like to remove? bread\n",
      "\n",
      "How many would you like to remove? 2\n",
      "2 bread has been removed from the cart. You now have {'milk': {'quantity': 2}, 'bread': {'quantity': 2}, 'butter': {'quantity': 1}}.\n",
      "\n",
      "\n",
      "Would you like to [a]dd an item, [r]emove an item, [s]ee your cart, or [e]xit?  \n",
      "r\n",
      "Which item would you like to remove? butter\n",
      "\n",
      "How many would you like to remove? 1\n",
      "1 butter has been removed from the cart. You now have {'milk': {'quantity': 2}, 'bread': {'quantity': 2}}.\n",
      "\n",
      "\n",
      "Would you like to [a]dd an item, [r]emove an item, [s]ee your cart, or [e]xit?  \n",
      "s\n",
      "\n",
      "You have {'milk': {'quantity': 2}, 'bread': {'quantity': 2}} in your cart.\n",
      "\n",
      "\n",
      "Would you like to [a]dd an item, [r]emove an item, [s]ee your cart, or [e]xit?  \n",
      "e\n",
      "Thank you for shopping with us! Please come again soon!\n",
      "\n",
      "~~~~~~~~~~~~~~~~~~~~~~~~~~~~~~~~~~~~~~~~~~~~~~~~~~~~~~~~~~~~~~~~~~~~~~~~~~~~~~~~~~~~~~~~~~~~~~~~~~~~~~~~~~~~~~~~~~~\n"
     ]
    }
   ],
   "source": [
    "# Create a class called cart that retains items and has methods to add, remove, and show\n",
    "\n",
    "class Cart:\n",
    "    \n",
    "    def __init__(self):\n",
    "        self.shopping_cart = {} #set the shopping cart within the class to be called for each instance of the class created.\n",
    "        \n",
    "    def customer_decision(self): #customer path, using a while loop to continue through the steps until the user chooses to exit, at which point it breaks\n",
    "        while True: #begins the while loop that the user will continue in until exit is selected\n",
    "            self.user_decision = input('\\nWould you like to [a]dd an item, [r]emove an item, [s]ee your cart, or [e]xit?  \\n').lower() #user prompt, with lower called to avoid issues with case\n",
    "            if self.user_decision == 'a':\n",
    "                self.add() # call the add method \n",
    "            elif self.user_decision == 'r':\n",
    "                self.remove() # call the remove method\n",
    "            elif self.user_decision == 's':\n",
    "                self.show() # call the show method\n",
    "            elif self.user_decision == 'e':\n",
    "                print('Thank you for shopping with us! Please come again soon!\\n') #print statement for when the user chooses to exit the loop\n",
    "                print('~'*115) #separator to indicate the end of the program\n",
    "                break #breaks the loop and the user exits the program\n",
    "            else:\n",
    "                print('Please enter a valid option: [a]dd, [r]emove, [s]ee, or [e]xit.\\n') #user prompt if they do not enter a valid response\n",
    "\n",
    "    \n",
    "    def add(self):\n",
    "        print(\"\\nWhat would you like to add? \")     #prompt the user\n",
    "        self.name = input('Item name: ').lower()    #assign user input to self.name, which will be used as dict key\n",
    "        while True:       #error handling, specifically to avoid an error if the user does not enter a digit quant\n",
    "            try:          #will try the quantity input (same as two lines up), breaking from try/except if successful\n",
    "                self.quantity = int(input('\\nHow many would you like to add?  ')) #assigning value to quantity\n",
    "                break   #break if user input is successful\n",
    "            except: ValueError #looks for the value error which would occur if not entered in digits\n",
    "            print('Please enter a valid number in digits.') #prompt user to retry their input with digits\n",
    "        self.shopping_cart[self.name] = {  #the key:value pair (self.name: self.quantity) are placed w/in the dict\n",
    "            'quantity': self.quantity\n",
    "        }    \n",
    "        print(self.shopping_cart) #show the user their cart after adding item/quant\n",
    "\n",
    "    \n",
    "    def remove(self):\n",
    "        self.remove_item = input('Which item would you like to remove? ')      #prompt user to id which key in the dict they are targeting for removal\n",
    "        if self.remove_item in self.shopping_cart:      #conditional checking to see if the item is in the cart or not\n",
    "            self.remove_quantity = int(input('\\nHow many would you like to remove? '))  #after confirming that it is, prompt to declare quant to remove\n",
    "            self.shopping_cart[self.remove_item]['quantity'] -= self.remove_quantity    #declaring the new quant value is the old minus the removed number.\n",
    "            if int(self.shopping_cart[self.remove_item]['quantity']) <= 0:  #conditional checking if the new quant is at or below 0, which instigates item removal from dict\n",
    "                self.shopping_cart.pop(self.remove_item)   #if it is <= 0, the item name/key will be removed from the shopping cart dict.\n",
    "            print(f\"{self.remove_quantity} {self.remove_item} has been removed from the cart. You now have {self.shopping_cart}.\\n\") #confirmation statement of what the cart now looks like.\n",
    "        else:\n",
    "            print('\\nItem not found in the cart.\\n')   #print statement responding to an invalid response (i.e., that item chosen to be removed does not exist in the dict)\n",
    "        \n",
    "        \n",
    "    def show(self):\n",
    "        print(f'\\nYou have {self.shopping_cart} in your cart.\\n') #Print statement showing user their cart as it stands\n",
    "    \n",
    "user = Cart()\n",
    "user.customer_decision()\n",
    "    "
   ]
  },
  {
   "cell_type": "markdown",
   "metadata": {},
   "source": [
    "### Exercise 2 - Write a Python class which has two methods get_String and print_String. get_String accept a string from the user and print_String print the string in upper case"
   ]
  },
  {
   "cell_type": "code",
   "execution_count": 46,
   "metadata": {},
   "outputs": [
    {
     "name": "stdout",
     "output_type": "stream",
     "text": [
      "What is your favorite word? eyjafjallajökull\n",
      "EYJAFJALLAJÖKULL\n"
     ]
    }
   ],
   "source": [
    "class UpperString:\n",
    "    \n",
    "    def get_input(self):\n",
    "        self.user_input = input('What is your favorite word? ')\n",
    "    \n",
    "    def print_input(self):\n",
    "        print(f'{self.user_input}'.upper())\n",
    "        \n",
    "word = UpperString()\n",
    "word.get_input()\n",
    "word.print_input()"
   ]
  }
 ],
 "metadata": {
  "kernelspec": {
   "display_name": "Python 3 (ipykernel)",
   "language": "python",
   "name": "python3"
  },
  "language_info": {
   "codemirror_mode": {
    "name": "ipython",
    "version": 3
   },
   "file_extension": ".py",
   "mimetype": "text/x-python",
   "name": "python",
   "nbconvert_exporter": "python",
   "pygments_lexer": "ipython3",
   "version": "3.10.9"
  }
 },
 "nbformat": 4,
 "nbformat_minor": 2
}
